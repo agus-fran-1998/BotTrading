{
  "nbformat": 4,
  "nbformat_minor": 0,
  "metadata": {
    "colab": {
      "provenance": [],
      "include_colab_link": true
    },
    "kernelspec": {
      "name": "python3",
      "display_name": "Python 3"
    },
    "language_info": {
      "name": "python"
    }
  },
  "cells": [
    {
      "cell_type": "markdown",
      "metadata": {
        "id": "view-in-github",
        "colab_type": "text"
      },
      "source": [
        "<a href=\"https://colab.research.google.com/github/agus-fran-1998/BotTrading/blob/main/Trading_bot_24hrs.ipynb\" target=\"_parent\"><img src=\"https://colab.research.google.com/assets/colab-badge.svg\" alt=\"Open In Colab\"/></a>"
      ]
    },
    {
      "cell_type": "markdown",
      "source": [
        "# 1. Configuración del Ambiente\n"
      ],
      "metadata": {
        "id": "-hRdjhensCZ_"
      }
    },
    {
      "cell_type": "code",
      "source": [
        "# Importar librerías de manipulación de datos\n",
        "import pandas as pd\n",
        "import numpy as np\n",
        "pd.set_option('display.max_columns', None)  # Mostrar todas las columnas del DataFrame\n",
        "pd.set_option('display.expand_frame_repr', False)  # Evitar que el DataFrame se divida en varias líneas si tiene muchas columnas\n",
        "\n",
        "# Importar librerías para manejo de tiempo y fecha\n",
        "import time\n",
        "from datetime import datetime, timedelta\n",
        "\n",
        "# Importar librerías de scraping\n",
        "import requests\n",
        "from bs4 import BeautifulSoup\n",
        "\n",
        "# Importar librerías de visualización\n",
        "import matplotlib.pyplot as plt\n",
        "plt.rc('figure', figsize = (5, 5))  # Establecer el tamaño predeterminado de las figuras a 5x5 pulgadas\n",
        "\n",
        "# Importar librerías específicas de entorno Jupyter\n",
        "from IPython.display import clear_output\n",
        "\n",
        "# Importar librería para obtención de datos financieros\n",
        "import yfinance as yf\n",
        "\n",
        "# Variables globales\n",
        "global df_bitcoin, df_bitcoin_limpio, precio_actual, tendencia, media_bitcoin, algoritmo_decision, color\n"
      ],
      "metadata": {
        "id": "p-2Hfiy87tQj"
      },
      "execution_count": 1,
      "outputs": []
    },
    {
      "cell_type": "code",
      "source": [
        "#Muestra versiones de las bibliotecas\n",
        "# Verificar la versión de Python\n",
        "!python --version\n",
        "\n",
        "# Verificar la versión de pandas\n",
        "!pip show pandas | grep Version\n",
        "\n",
        "# Verificar la versión de numpy\n",
        "!pip show numpy | grep Version\n",
        "\n",
        "# Verificar la versión de matplotlib\n",
        "!pip show matplotlib | grep Version\n",
        "\n"
      ],
      "metadata": {
        "colab": {
          "base_uri": "https://localhost:8080/"
        },
        "id": "oRuY9xzOrsno",
        "outputId": "be4c58e7-7857-453e-c48b-898a35d53202"
      },
      "execution_count": 2,
      "outputs": [
        {
          "output_type": "stream",
          "name": "stdout",
          "text": [
            "Python 3.11.11\n",
            "Version: 2.2.2\n",
            "Version: 1.26.4\n",
            "Version 3.1, 31 March 2009\n",
            "                       Version 3, 29 June 2007\n",
            "  5. Conveying Modified Source Versions.\n",
            "  14. Revised Versions of this License.\n",
            "Version: 3.10.0\n"
          ]
        }
      ]
    },
    {
      "cell_type": "markdown",
      "source": [
        "# 2. Obtención de datos"
      ],
      "metadata": {
        "id": "FYjvZlair7nX"
      }
    },
    {
      "cell_type": "markdown",
      "source": [
        "## 2.1 Precios Históricos del Bitcoin"
      ],
      "metadata": {
        "id": "mmTCaRlOs1t2"
      }
    },
    {
      "cell_type": "code",
      "source": [
        "def importar_base_bitcoin():\n",
        "    global df_bitcoin\n",
        "    end_data = datetime.now()\n",
        "    start_data = end_data - timedelta(days=7)\n",
        "\n",
        "    # Descargando datos de BTC usando Yahoo Finance\n",
        "    df_bitcoin = yf.download(\"BTC-USD\", start=start_data, end=end_data, interval=\"5m\")"
      ],
      "metadata": {
        "id": "RUG0HxEgGvBw"
      },
      "execution_count": 3,
      "outputs": []
    },
    {
      "cell_type": "code",
      "source": [
        "importar_base_bitcoin()\n",
        "df_bitcoin.head()"
      ],
      "metadata": {
        "colab": {
          "base_uri": "https://localhost:8080/",
          "height": 287
        },
        "id": "-doIXcVCsuPI",
        "outputId": "8623929d-05f9-4f75-ac1e-266dde15d997"
      },
      "execution_count": 4,
      "outputs": [
        {
          "output_type": "stream",
          "name": "stderr",
          "text": [
            "\r[*********************100%***********************]  1 of 1 completed\n"
          ]
        },
        {
          "output_type": "execute_result",
          "data": {
            "text/plain": [
              "Price                              Close           High            Low           Open  Volume\n",
              "Ticker                           BTC-USD        BTC-USD        BTC-USD        BTC-USD BTC-USD\n",
              "Datetime                                                                                     \n",
              "2025-01-16 23:25:00+00:00   99844.359375   99864.742188   99844.359375   99864.742188       0\n",
              "2025-01-16 23:30:00+00:00   99835.546875   99893.085938   99835.546875   99893.085938       0\n",
              "2025-01-16 23:35:00+00:00   99948.195312   99948.195312   99863.703125   99867.335938       0\n",
              "2025-01-16 23:40:00+00:00  100014.812500  100031.617188  100005.570312  100015.257812       0\n",
              "2025-01-16 23:45:00+00:00  100014.765625  100090.000000  100014.765625  100090.000000       0"
            ],
            "text/html": [
              "\n",
              "  <div id=\"df-ca46eef8-e1e4-4ce8-bc3f-27f692a30f2f\" class=\"colab-df-container\">\n",
              "    <div>\n",
              "<style scoped>\n",
              "    .dataframe tbody tr th:only-of-type {\n",
              "        vertical-align: middle;\n",
              "    }\n",
              "\n",
              "    .dataframe tbody tr th {\n",
              "        vertical-align: top;\n",
              "    }\n",
              "\n",
              "    .dataframe thead tr th {\n",
              "        text-align: left;\n",
              "    }\n",
              "\n",
              "    .dataframe thead tr:last-of-type th {\n",
              "        text-align: right;\n",
              "    }\n",
              "</style>\n",
              "<table border=\"1\" class=\"dataframe\">\n",
              "  <thead>\n",
              "    <tr>\n",
              "      <th>Price</th>\n",
              "      <th>Close</th>\n",
              "      <th>High</th>\n",
              "      <th>Low</th>\n",
              "      <th>Open</th>\n",
              "      <th>Volume</th>\n",
              "    </tr>\n",
              "    <tr>\n",
              "      <th>Ticker</th>\n",
              "      <th>BTC-USD</th>\n",
              "      <th>BTC-USD</th>\n",
              "      <th>BTC-USD</th>\n",
              "      <th>BTC-USD</th>\n",
              "      <th>BTC-USD</th>\n",
              "    </tr>\n",
              "    <tr>\n",
              "      <th>Datetime</th>\n",
              "      <th></th>\n",
              "      <th></th>\n",
              "      <th></th>\n",
              "      <th></th>\n",
              "      <th></th>\n",
              "    </tr>\n",
              "  </thead>\n",
              "  <tbody>\n",
              "    <tr>\n",
              "      <th>2025-01-16 23:25:00+00:00</th>\n",
              "      <td>99844.359375</td>\n",
              "      <td>99864.742188</td>\n",
              "      <td>99844.359375</td>\n",
              "      <td>99864.742188</td>\n",
              "      <td>0</td>\n",
              "    </tr>\n",
              "    <tr>\n",
              "      <th>2025-01-16 23:30:00+00:00</th>\n",
              "      <td>99835.546875</td>\n",
              "      <td>99893.085938</td>\n",
              "      <td>99835.546875</td>\n",
              "      <td>99893.085938</td>\n",
              "      <td>0</td>\n",
              "    </tr>\n",
              "    <tr>\n",
              "      <th>2025-01-16 23:35:00+00:00</th>\n",
              "      <td>99948.195312</td>\n",
              "      <td>99948.195312</td>\n",
              "      <td>99863.703125</td>\n",
              "      <td>99867.335938</td>\n",
              "      <td>0</td>\n",
              "    </tr>\n",
              "    <tr>\n",
              "      <th>2025-01-16 23:40:00+00:00</th>\n",
              "      <td>100014.812500</td>\n",
              "      <td>100031.617188</td>\n",
              "      <td>100005.570312</td>\n",
              "      <td>100015.257812</td>\n",
              "      <td>0</td>\n",
              "    </tr>\n",
              "    <tr>\n",
              "      <th>2025-01-16 23:45:00+00:00</th>\n",
              "      <td>100014.765625</td>\n",
              "      <td>100090.000000</td>\n",
              "      <td>100014.765625</td>\n",
              "      <td>100090.000000</td>\n",
              "      <td>0</td>\n",
              "    </tr>\n",
              "  </tbody>\n",
              "</table>\n",
              "</div>\n",
              "    <div class=\"colab-df-buttons\">\n",
              "\n",
              "  <div class=\"colab-df-container\">\n",
              "    <button class=\"colab-df-convert\" onclick=\"convertToInteractive('df-ca46eef8-e1e4-4ce8-bc3f-27f692a30f2f')\"\n",
              "            title=\"Convert this dataframe to an interactive table.\"\n",
              "            style=\"display:none;\">\n",
              "\n",
              "  <svg xmlns=\"http://www.w3.org/2000/svg\" height=\"24px\" viewBox=\"0 -960 960 960\">\n",
              "    <path d=\"M120-120v-720h720v720H120Zm60-500h600v-160H180v160Zm220 220h160v-160H400v160Zm0 220h160v-160H400v160ZM180-400h160v-160H180v160Zm440 0h160v-160H620v160ZM180-180h160v-160H180v160Zm440 0h160v-160H620v160Z\"/>\n",
              "  </svg>\n",
              "    </button>\n",
              "\n",
              "  <style>\n",
              "    .colab-df-container {\n",
              "      display:flex;\n",
              "      gap: 12px;\n",
              "    }\n",
              "\n",
              "    .colab-df-convert {\n",
              "      background-color: #E8F0FE;\n",
              "      border: none;\n",
              "      border-radius: 50%;\n",
              "      cursor: pointer;\n",
              "      display: none;\n",
              "      fill: #1967D2;\n",
              "      height: 32px;\n",
              "      padding: 0 0 0 0;\n",
              "      width: 32px;\n",
              "    }\n",
              "\n",
              "    .colab-df-convert:hover {\n",
              "      background-color: #E2EBFA;\n",
              "      box-shadow: 0px 1px 2px rgba(60, 64, 67, 0.3), 0px 1px 3px 1px rgba(60, 64, 67, 0.15);\n",
              "      fill: #174EA6;\n",
              "    }\n",
              "\n",
              "    .colab-df-buttons div {\n",
              "      margin-bottom: 4px;\n",
              "    }\n",
              "\n",
              "    [theme=dark] .colab-df-convert {\n",
              "      background-color: #3B4455;\n",
              "      fill: #D2E3FC;\n",
              "    }\n",
              "\n",
              "    [theme=dark] .colab-df-convert:hover {\n",
              "      background-color: #434B5C;\n",
              "      box-shadow: 0px 1px 3px 1px rgba(0, 0, 0, 0.15);\n",
              "      filter: drop-shadow(0px 1px 2px rgba(0, 0, 0, 0.3));\n",
              "      fill: #FFFFFF;\n",
              "    }\n",
              "  </style>\n",
              "\n",
              "    <script>\n",
              "      const buttonEl =\n",
              "        document.querySelector('#df-ca46eef8-e1e4-4ce8-bc3f-27f692a30f2f button.colab-df-convert');\n",
              "      buttonEl.style.display =\n",
              "        google.colab.kernel.accessAllowed ? 'block' : 'none';\n",
              "\n",
              "      async function convertToInteractive(key) {\n",
              "        const element = document.querySelector('#df-ca46eef8-e1e4-4ce8-bc3f-27f692a30f2f');\n",
              "        const dataTable =\n",
              "          await google.colab.kernel.invokeFunction('convertToInteractive',\n",
              "                                                    [key], {});\n",
              "        if (!dataTable) return;\n",
              "\n",
              "        const docLinkHtml = 'Like what you see? Visit the ' +\n",
              "          '<a target=\"_blank\" href=https://colab.research.google.com/notebooks/data_table.ipynb>data table notebook</a>'\n",
              "          + ' to learn more about interactive tables.';\n",
              "        element.innerHTML = '';\n",
              "        dataTable['output_type'] = 'display_data';\n",
              "        await google.colab.output.renderOutput(dataTable, element);\n",
              "        const docLink = document.createElement('div');\n",
              "        docLink.innerHTML = docLinkHtml;\n",
              "        element.appendChild(docLink);\n",
              "      }\n",
              "    </script>\n",
              "  </div>\n",
              "\n",
              "\n",
              "<div id=\"df-dd0accf3-e436-4899-abef-f6b5185e8c6e\">\n",
              "  <button class=\"colab-df-quickchart\" onclick=\"quickchart('df-dd0accf3-e436-4899-abef-f6b5185e8c6e')\"\n",
              "            title=\"Suggest charts\"\n",
              "            style=\"display:none;\">\n",
              "\n",
              "<svg xmlns=\"http://www.w3.org/2000/svg\" height=\"24px\"viewBox=\"0 0 24 24\"\n",
              "     width=\"24px\">\n",
              "    <g>\n",
              "        <path d=\"M19 3H5c-1.1 0-2 .9-2 2v14c0 1.1.9 2 2 2h14c1.1 0 2-.9 2-2V5c0-1.1-.9-2-2-2zM9 17H7v-7h2v7zm4 0h-2V7h2v10zm4 0h-2v-4h2v4z\"/>\n",
              "    </g>\n",
              "</svg>\n",
              "  </button>\n",
              "\n",
              "<style>\n",
              "  .colab-df-quickchart {\n",
              "      --bg-color: #E8F0FE;\n",
              "      --fill-color: #1967D2;\n",
              "      --hover-bg-color: #E2EBFA;\n",
              "      --hover-fill-color: #174EA6;\n",
              "      --disabled-fill-color: #AAA;\n",
              "      --disabled-bg-color: #DDD;\n",
              "  }\n",
              "\n",
              "  [theme=dark] .colab-df-quickchart {\n",
              "      --bg-color: #3B4455;\n",
              "      --fill-color: #D2E3FC;\n",
              "      --hover-bg-color: #434B5C;\n",
              "      --hover-fill-color: #FFFFFF;\n",
              "      --disabled-bg-color: #3B4455;\n",
              "      --disabled-fill-color: #666;\n",
              "  }\n",
              "\n",
              "  .colab-df-quickchart {\n",
              "    background-color: var(--bg-color);\n",
              "    border: none;\n",
              "    border-radius: 50%;\n",
              "    cursor: pointer;\n",
              "    display: none;\n",
              "    fill: var(--fill-color);\n",
              "    height: 32px;\n",
              "    padding: 0;\n",
              "    width: 32px;\n",
              "  }\n",
              "\n",
              "  .colab-df-quickchart:hover {\n",
              "    background-color: var(--hover-bg-color);\n",
              "    box-shadow: 0 1px 2px rgba(60, 64, 67, 0.3), 0 1px 3px 1px rgba(60, 64, 67, 0.15);\n",
              "    fill: var(--button-hover-fill-color);\n",
              "  }\n",
              "\n",
              "  .colab-df-quickchart-complete:disabled,\n",
              "  .colab-df-quickchart-complete:disabled:hover {\n",
              "    background-color: var(--disabled-bg-color);\n",
              "    fill: var(--disabled-fill-color);\n",
              "    box-shadow: none;\n",
              "  }\n",
              "\n",
              "  .colab-df-spinner {\n",
              "    border: 2px solid var(--fill-color);\n",
              "    border-color: transparent;\n",
              "    border-bottom-color: var(--fill-color);\n",
              "    animation:\n",
              "      spin 1s steps(1) infinite;\n",
              "  }\n",
              "\n",
              "  @keyframes spin {\n",
              "    0% {\n",
              "      border-color: transparent;\n",
              "      border-bottom-color: var(--fill-color);\n",
              "      border-left-color: var(--fill-color);\n",
              "    }\n",
              "    20% {\n",
              "      border-color: transparent;\n",
              "      border-left-color: var(--fill-color);\n",
              "      border-top-color: var(--fill-color);\n",
              "    }\n",
              "    30% {\n",
              "      border-color: transparent;\n",
              "      border-left-color: var(--fill-color);\n",
              "      border-top-color: var(--fill-color);\n",
              "      border-right-color: var(--fill-color);\n",
              "    }\n",
              "    40% {\n",
              "      border-color: transparent;\n",
              "      border-right-color: var(--fill-color);\n",
              "      border-top-color: var(--fill-color);\n",
              "    }\n",
              "    60% {\n",
              "      border-color: transparent;\n",
              "      border-right-color: var(--fill-color);\n",
              "    }\n",
              "    80% {\n",
              "      border-color: transparent;\n",
              "      border-right-color: var(--fill-color);\n",
              "      border-bottom-color: var(--fill-color);\n",
              "    }\n",
              "    90% {\n",
              "      border-color: transparent;\n",
              "      border-bottom-color: var(--fill-color);\n",
              "    }\n",
              "  }\n",
              "</style>\n",
              "\n",
              "  <script>\n",
              "    async function quickchart(key) {\n",
              "      const quickchartButtonEl =\n",
              "        document.querySelector('#' + key + ' button');\n",
              "      quickchartButtonEl.disabled = true;  // To prevent multiple clicks.\n",
              "      quickchartButtonEl.classList.add('colab-df-spinner');\n",
              "      try {\n",
              "        const charts = await google.colab.kernel.invokeFunction(\n",
              "            'suggestCharts', [key], {});\n",
              "      } catch (error) {\n",
              "        console.error('Error during call to suggestCharts:', error);\n",
              "      }\n",
              "      quickchartButtonEl.classList.remove('colab-df-spinner');\n",
              "      quickchartButtonEl.classList.add('colab-df-quickchart-complete');\n",
              "    }\n",
              "    (() => {\n",
              "      let quickchartButtonEl =\n",
              "        document.querySelector('#df-dd0accf3-e436-4899-abef-f6b5185e8c6e button');\n",
              "      quickchartButtonEl.style.display =\n",
              "        google.colab.kernel.accessAllowed ? 'block' : 'none';\n",
              "    })();\n",
              "  </script>\n",
              "</div>\n",
              "\n",
              "    </div>\n",
              "  </div>\n"
            ],
            "application/vnd.google.colaboratory.intrinsic+json": {
              "type": "dataframe",
              "variable_name": "df_bitcoin",
              "summary": "{\n  \"name\": \"df_bitcoin\",\n  \"rows\": 2016,\n  \"fields\": [\n    {\n      \"column\": [\n        \"Datetime\",\n        \"\"\n      ],\n      \"properties\": {\n        \"dtype\": \"date\",\n        \"min\": \"2025-01-16 23:25:00+00:00\",\n        \"max\": \"2025-01-23 23:20:00+00:00\",\n        \"num_unique_values\": 2016,\n        \"samples\": [\n          \"2025-01-21 03:15:00+00:00\",\n          \"2025-01-18 19:15:00+00:00\",\n          \"2025-01-18 08:10:00+00:00\"\n        ],\n        \"semantic_type\": \"\",\n        \"description\": \"\"\n      }\n    },\n    {\n      \"column\": [\n        \"Close\",\n        \"BTC-USD\"\n      ],\n      \"properties\": {\n        \"dtype\": \"number\",\n        \"std\": 1719.3136165804692,\n        \"min\": 99722.2109375,\n        \"max\": 108896.53125,\n        \"num_unique_values\": 2014,\n        \"samples\": [\n          102845.859375,\n          104047.703125,\n          102488.1171875\n        ],\n        \"semantic_type\": \"\",\n        \"description\": \"\"\n      }\n    },\n    {\n      \"column\": [\n        \"High\",\n        \"BTC-USD\"\n      ],\n      \"properties\": {\n        \"dtype\": \"number\",\n        \"std\": 1724.9897040492292,\n        \"min\": 99864.7421875,\n        \"max\": 109110.390625,\n        \"num_unique_values\": 2013,\n        \"samples\": [\n          104827.875,\n          104160.03125,\n          102495.5546875\n        ],\n        \"semantic_type\": \"\",\n        \"description\": \"\"\n      }\n    },\n    {\n      \"column\": [\n        \"Low\",\n        \"BTC-USD\"\n      ],\n      \"properties\": {\n        \"dtype\": \"number\",\n        \"std\": 1718.9384113068154,\n        \"min\": 99622.890625,\n        \"max\": 108710.578125,\n        \"num_unique_values\": 2012,\n        \"samples\": [\n          104419.4296875,\n          104056.09375,\n          102264.984375\n        ],\n        \"semantic_type\": \"\",\n        \"description\": \"\"\n      }\n    },\n    {\n      \"column\": [\n        \"Open\",\n        \"BTC-USD\"\n      ],\n      \"properties\": {\n        \"dtype\": \"number\",\n        \"std\": 1723.926176098033,\n        \"min\": 99622.890625,\n        \"max\": 108899.9296875,\n        \"num_unique_values\": 2011,\n        \"samples\": [\n          104795.3359375,\n          104056.09375,\n          102264.984375\n        ],\n        \"semantic_type\": \"\",\n        \"description\": \"\"\n      }\n    },\n    {\n      \"column\": [\n        \"Volume\",\n        \"BTC-USD\"\n      ],\n      \"properties\": {\n        \"dtype\": \"number\",\n        \"std\": 242643871,\n        \"min\": 0,\n        \"max\": 3901677568,\n        \"num_unique_values\": 1044,\n        \"samples\": [\n          252141568,\n          46034944,\n          45006848\n        ],\n        \"semantic_type\": \"\",\n        \"description\": \"\"\n      }\n    }\n  ]\n}"
            }
          },
          "metadata": {},
          "execution_count": 4
        }
      ]
    },
    {
      "cell_type": "code",
      "source": [
        "df_bitcoin.columns = ['_'.join(map(str, col)) if isinstance(col, tuple) else col for col in df_bitcoin.columns]\n",
        "df_bitcoin.columns"
      ],
      "metadata": {
        "colab": {
          "base_uri": "https://localhost:8080/"
        },
        "id": "PYaFIyqRK7Ag",
        "outputId": "671c9c92-a3f6-4c3c-b9bf-25000d5c8c6c"
      },
      "execution_count": 5,
      "outputs": [
        {
          "output_type": "execute_result",
          "data": {
            "text/plain": [
              "Index(['Close_BTC-USD', 'High_BTC-USD', 'Low_BTC-USD', 'Open_BTC-USD',\n",
              "       'Volume_BTC-USD'],\n",
              "      dtype='object')"
            ]
          },
          "metadata": {},
          "execution_count": 5
        }
      ]
    },
    {
      "cell_type": "code",
      "source": [
        "print(df_bitcoin.columns)\n",
        "print(df_bitcoin.index)"
      ],
      "metadata": {
        "colab": {
          "base_uri": "https://localhost:8080/"
        },
        "id": "TMLoSlXPMcsf",
        "outputId": "4ec0eb44-686d-48aa-f558-eb658f57fbdf"
      },
      "execution_count": 6,
      "outputs": [
        {
          "output_type": "stream",
          "name": "stdout",
          "text": [
            "Index(['Close_BTC-USD', 'High_BTC-USD', 'Low_BTC-USD', 'Open_BTC-USD',\n",
            "       'Volume_BTC-USD'],\n",
            "      dtype='object')\n",
            "DatetimeIndex(['2025-01-16 23:25:00+00:00', '2025-01-16 23:30:00+00:00',\n",
            "               '2025-01-16 23:35:00+00:00', '2025-01-16 23:40:00+00:00',\n",
            "               '2025-01-16 23:45:00+00:00', '2025-01-16 23:50:00+00:00',\n",
            "               '2025-01-16 23:55:00+00:00', '2025-01-17 00:00:00+00:00',\n",
            "               '2025-01-17 00:05:00+00:00', '2025-01-17 00:10:00+00:00',\n",
            "               ...\n",
            "               '2025-01-23 22:35:00+00:00', '2025-01-23 22:40:00+00:00',\n",
            "               '2025-01-23 22:45:00+00:00', '2025-01-23 22:50:00+00:00',\n",
            "               '2025-01-23 22:55:00+00:00', '2025-01-23 23:00:00+00:00',\n",
            "               '2025-01-23 23:05:00+00:00', '2025-01-23 23:10:00+00:00',\n",
            "               '2025-01-23 23:15:00+00:00', '2025-01-23 23:20:00+00:00'],\n",
            "              dtype='datetime64[ns, UTC]', name='Datetime', length=2016, freq=None)\n"
          ]
        }
      ]
    },
    {
      "cell_type": "markdown",
      "source": [
        "## 2.2 Indicadores de Tendencias"
      ],
      "metadata": {
        "id": "wbwQtuPPs7uG"
      }
    },
    {
      "cell_type": "markdown",
      "source": [
        "# ATENCION\n",
        "# Los selectores HTML pueden variar según las actualizaciones del sitio web, así que si el scraping no funciona\n",
        "# revisen la estructura actualizada del HTML."
      ],
      "metadata": {
        "id": "8GtZx3fhj_nS"
      }
    },
    {
      "cell_type": "code",
      "source": [
        "# VERSION 1\n",
        "\n",
        "\n",
        "# def extraer_tendencias():\n",
        "#     \"\"\"\n",
        "#     Extrae tendencias y toma decisiones de trading basadas en el análisis de precios de Bitcoin.\n",
        "\n",
        "#     Esta función utiliza la biblioteca yfinance para obtener datos históricos de Bitcoin y BeautifulSoup\n",
        "#     para scrapear el precio actual y la variación de precio de CoinMarketCap. Luego, calcula la media del\n",
        "#     precio de cierre y establece una tendencia simple basada en la comparación de precios. Finalmente,\n",
        "#     define un algoritmo de decisión basado en la tendencia y el precio actual.\n",
        "\n",
        "#     Variables globales:\n",
        "#     df_bitcoin (pandas.DataFrame): DataFrame que contiene los datos históricos de Bitcoin.\n",
        "#     precio_actual (float): Precio actual de Bitcoin.\n",
        "#     tendencia (str): Tendencia del mercado (\"Alcista\" o \"Bajista\").\n",
        "#     media_bitcoin (float): Media del precio de cierre de Bitcoin.\n",
        "#     algoritmo_decision (str): Decisión del algoritmo (\"Comprar\", \"Vender\" o \"Esperar\").\n",
        "#     \"\"\"\n",
        "\n",
        "\n",
        "#     global df_bitcoin, precio_actual, tendencia, media_bitcoin, algoritmo_decision\n",
        "#     from bs4 import BeautifulSoup\n",
        "#     import requests\n",
        "# headers = {'User-Agent' : 'Mozilla/5.0 (Windows NT 10.0; Win64; x64; rv:109.0) Gecko/20100101 Firefox/118.0'}\n",
        "\n",
        "# # URL de la página de CoinMarketCap\n",
        "# url = \"https://coinmarketcap.com/\"\n",
        "# # Realizar una solicitud GET a la URL\n",
        "# response = requests.get(url, headers=headers)\n",
        "# # Parsear el contenido de la página con BeautifulSoup\n",
        "# soup = BeautifulSoup(response.content, features = 'lxml')\n",
        "\n",
        "\n",
        "# # Buscar el elemento que contiene el precio actual del Bitcoin en USD\n",
        "# bitcoin_price_element = soup.find('div', {'class': ['sc-b3fc6b7-0 dzgUIj rise','sc-b3fc6b7-0 dzgUIj','sc-b3fc6b7-0 dzgUIj fall']})\n",
        "# bitcoin_1h_change_element = soup.find('span', {'class': ['sc-a59753b0-0 ivvJzO']})\n",
        "\n",
        "\n",
        "# span_element = bitcoin_price_element.find('span')\n",
        "# span_element2 = bitcoin_1h_change_element.find('span')\n",
        "\n",
        "# variacion = span_element2.get('class')\n",
        "\n",
        "# precio = span_element.text.strip()\n",
        "# precio_actual = float(precio.replace('$', '').replace(',', ''))\n",
        "\n",
        "# variacion = str(variacion)\n",
        "\n",
        "# # Llama a la función para extraer las tendencias\n",
        "# extraer_tendencias()\n",
        "\n",
        "# if variacion == \"['icon-Caret-up']\":\n",
        "#     tendencia = \"Alcista\"\n",
        "# elif variacion == \"['icon-Caret-down']\":\n",
        "#     tendencia = \"Bajista\"\n",
        "# else:\n",
        "#     tendencia = \"\"\n",
        "\n",
        "\n",
        "# # Definir un algoritmo de decisión\n",
        "#     if precio_actual > media_bitcoin and tendencia == \"Bajista\":\n",
        "#         algoritmo_decision = \"Comprar\"\n",
        "#     elif precio_actual < media_bitcoin and tendencia == \"Alcista\":\n",
        "#         algoritmo_decision = \"Vender\"\n",
        "#     else:\n",
        "#         algoritmo_decision = \"Esperar\"\n",
        "\n",
        "# # Imprime las variables globales\n",
        "# print(\"********************\")\n",
        "# print(\"Precio Actual:\", precio_actual)\n",
        "# print(\"Tendencia:\", tendencia)\n",
        "# print(\"Media Bitcoin:\", media_bitcoin)\n",
        "# print(\"Algoritmo de Decisión:\", algoritmo_decision)\n",
        "# print(\"********************\")\n",
        "\n",
        "\n",
        "\n",
        "# VERSION 2\n",
        "def extraer_tendencias():\n",
        "    global precio_actual, tendencia, color\n",
        "    global df_ethereum, df_ethereum_limpio, precio_actual, tendencia, media_ethereum, algoritmo_decision, color\n",
        "\n",
        "    headers = {'User-Agent': 'Mozilla/5.0 (Macintosh; Intel Mac OS X 10_15_7) AppleWebKit/537.36 (KHTML, like Gecko) Chrome/111.0.0.0 Safari/537.36'}\n",
        "    url = 'https://coinmarketcap.com/currencies/bitcoin/'\n",
        "\n",
        "    try:\n",
        "        # Realizar la solicitud con los headers para evitar ser bloqueado\n",
        "        respuesta = requests.get(url, headers=headers)\n",
        "        respuesta.raise_for_status()\n",
        "        s = BeautifulSoup(respuesta.content, 'html.parser')\n",
        "\n",
        "        # 1. Extraer el precio actual del BTC\n",
        "        precio_tag = s.find(\"span\", {\"data-test\": \"text-cdp-price-display\"})\n",
        "\n",
        "        if precio_tag:        #  class : [sc-65e7f566-0 esyGGG data-test=\"text-cdp-price-display\"\n",
        "            precio_actual = float(precio_tag.getText().replace('$', '').replace(',', ''))\n",
        "        else:\n",
        "            precio_actual = None\n",
        "\n",
        "        # 2. Extraer la tendencia del precio (alta o baja)\n",
        "        tendencia_tag = s.find(\"p\", {\"color\": True, \"data-change\": True})\n",
        "        if tendencia_tag:\n",
        "            color = tendencia_tag['color']\n",
        "            if color == \"green\":\n",
        "                tendencia = \"alta\"\n",
        "            elif color == \"red\":\n",
        "                tendencia = \"baja\"\n",
        "            else:\n",
        "                tendencia = \"estable\"\n",
        "        else:\n",
        "            tendencia = None\n",
        "            color = None\n",
        "\n",
        "        return precio_actual, tendencia\n",
        "\n",
        "    except Exception as e:\n",
        "        print(\"Error al extraer datos:\", e)\n"
      ],
      "metadata": {
        "id": "2CMsleo7XERa"
      },
      "execution_count": 7,
      "outputs": []
    },
    {
      "cell_type": "code",
      "source": [
        "precio_actual, tendencia = extraer_tendencias()"
      ],
      "metadata": {
        "id": "0_Fd5KGMccrR"
      },
      "execution_count": 8,
      "outputs": []
    },
    {
      "cell_type": "code",
      "source": [
        "extraer_tendencias()\n",
        "print(f\"Precio actual de Bitcoin: {precio_actual}\")\n",
        "print(f\"Tendencia: {tendencia}\")\n"
      ],
      "metadata": {
        "id": "ftY3ssxTIhtA",
        "colab": {
          "base_uri": "https://localhost:8080/"
        },
        "outputId": "95a2fe09-b3d7-4b54-98ca-695a1b10f128"
      },
      "execution_count": 9,
      "outputs": [
        {
          "output_type": "stream",
          "name": "stdout",
          "text": [
            "Precio actual de Bitcoin: 104427.2\n",
            "Tendencia: alta\n"
          ]
        }
      ]
    },
    {
      "cell_type": "markdown",
      "source": [
        "# 3. Limpieza de datos"
      ],
      "metadata": {
        "id": "5UlqBZlrtk3I"
      }
    },
    {
      "cell_type": "code",
      "source": [
        "def limpieza_datos():\n",
        "    # Definición de variables globales\n",
        "    global df_bitcoin, df_bitcoin_limpio, media_bitcoin\n",
        "\n",
        "    # Reiniciar los indices\n",
        "    df_bitcoin.reset_index(inplace=True)\n",
        "\n",
        "    # Guardar el número inicial de registros\n",
        "    registros_iniciales = len(df_bitcoin)\n",
        "\n",
        "    # Crear una copia del DataFrame original\n",
        "    df_bitcoin_limpio = df_bitcoin.copy()\n",
        "\n",
        "    # Eliminar registros con índice duplicado, manteniendo solo la primera aparición\n",
        "    df_bitcoin_limpio = df_bitcoin_limpio[~df_bitcoin_limpio.index.duplicated(keep='first')]\n",
        "\n",
        "    # Rellenar valores nulos en la columna 'close' con el último valor no nulo disponible\n",
        "    df_bitcoin_limpio['Close_BTC-USD'].fillna(method='ffill', inplace=True)\n",
        "\n",
        "    # Eliminar filas donde el valor en la columna 'volumen' sea menor o igual a cero\n",
        "    df_bitcoin_limpio = df_bitcoin_limpio[df_bitcoin_limpio['Volume_BTC-USD'] > 0]\n",
        "\n",
        "    # Calcular los cuartiles y el rango intercuartílico (IQR) para la columna 'close'\n",
        "    q1 = df_bitcoin_limpio['Close_BTC-USD'].quantile(0.25)\n",
        "    q3 = df_bitcoin_limpio['Close_BTC-USD'].quantile(0.75)\n",
        "    iqr = q3 - q1\n",
        "    limite_inferior = q1 - 1.5 * iqr\n",
        "    limite_superior = q3 + 1.5 * iqr\n",
        "\n",
        "    # Eliminar registros cuyo valor en la columna 'close' esté fuera de los límites definidos por el IQR\n",
        "    df_bitcoin_limpio = df_bitcoin_limpio[(df_bitcoin_limpio['Close_BTC-USD'] >= limite_inferior)\n",
        "    & (df_bitcoin_limpio['Close_BTC-USD'] <= limite_superior)]\n",
        "\n",
        "    # Calcular el precio promedio del BTK usando la columna 'close'\n",
        "    media_bitcoin = df_bitcoin_limpio['Close_BTC-USD'].mean().round(4)\n",
        "\n",
        "    # Guardar el número de registros después del proceso\n",
        "    registros_finales = len(df_bitcoin_limpio)\n",
        "\n",
        "    # Calcular la cantidad de registros eliminados\n",
        "    registros_eliminados = registros_iniciales - registros_finales\n",
        "\n",
        "    return {\n",
        "        'registros_iniciales': registros_iniciales,\n",
        "        'registros_finales': registros_finales,\n",
        "        'registros_eliminados': registros_eliminados,\n",
        "        'media_bitcoin': media_bitcoin\n",
        "    }\n",
        "\n",
        "limpieza_datos()"
      ],
      "metadata": {
        "id": "9vGBUURsGief",
        "colab": {
          "base_uri": "https://localhost:8080/"
        },
        "outputId": "7bba291d-1bb0-4b8e-9990-16f1fe142b1c"
      },
      "execution_count": 10,
      "outputs": [
        {
          "output_type": "stream",
          "name": "stderr",
          "text": [
            "<ipython-input-10-cfcc2edec99f>:18: FutureWarning: A value is trying to be set on a copy of a DataFrame or Series through chained assignment using an inplace method.\n",
            "The behavior will change in pandas 3.0. This inplace method will never work because the intermediate object on which we are setting values always behaves as a copy.\n",
            "\n",
            "For example, when doing 'df[col].method(value, inplace=True)', try using 'df.method({col: value}, inplace=True)' or df[col] = df[col].method(value) instead, to perform the operation inplace on the original object.\n",
            "\n",
            "\n",
            "  df_bitcoin_limpio['Close_BTC-USD'].fillna(method='ffill', inplace=True)\n",
            "<ipython-input-10-cfcc2edec99f>:18: FutureWarning: Series.fillna with 'method' is deprecated and will raise in a future version. Use obj.ffill() or obj.bfill() instead.\n",
            "  df_bitcoin_limpio['Close_BTC-USD'].fillna(method='ffill', inplace=True)\n"
          ]
        },
        {
          "output_type": "execute_result",
          "data": {
            "text/plain": [
              "{'registros_iniciales': 2016,\n",
              " 'registros_finales': 1050,\n",
              " 'registros_eliminados': 966,\n",
              " 'media_bitcoin': 103788.3365}"
            ]
          },
          "metadata": {},
          "execution_count": 10
        }
      ]
    },
    {
      "cell_type": "markdown",
      "source": [
        "## 3.1 Exploración inicial de los datos de Bitcoin sin tratamiento"
      ],
      "metadata": {
        "id": "JeqBvWcPxY0r"
      }
    },
    {
      "cell_type": "code",
      "source": [
        "#Muestra informaciones de la base original, sin tratamiento\n",
        "print(df_bitcoin.info())\n",
        "df_bitcoin.describe().round(0)"
      ],
      "metadata": {
        "id": "GRr-BXaRt1p-",
        "colab": {
          "base_uri": "https://localhost:8080/",
          "height": 555
        },
        "outputId": "9670a8ce-3174-4585-bdee-8a905e2c7985"
      },
      "execution_count": 11,
      "outputs": [
        {
          "output_type": "stream",
          "name": "stdout",
          "text": [
            "<class 'pandas.core.frame.DataFrame'>\n",
            "RangeIndex: 2016 entries, 0 to 2015\n",
            "Data columns (total 6 columns):\n",
            " #   Column          Non-Null Count  Dtype              \n",
            "---  ------          --------------  -----              \n",
            " 0   Datetime        2016 non-null   datetime64[ns, UTC]\n",
            " 1   Close_BTC-USD   2016 non-null   float64            \n",
            " 2   High_BTC-USD    2016 non-null   float64            \n",
            " 3   Low_BTC-USD     2016 non-null   float64            \n",
            " 4   Open_BTC-USD    2016 non-null   float64            \n",
            " 5   Volume_BTC-USD  2016 non-null   int64              \n",
            "dtypes: datetime64[ns, UTC](1), float64(4), int64(1)\n",
            "memory usage: 94.6 KB\n",
            "None\n"
          ]
        },
        {
          "output_type": "execute_result",
          "data": {
            "text/plain": [
              "       Close_BTC-USD  High_BTC-USD  Low_BTC-USD  Open_BTC-USD  Volume_BTC-USD\n",
              "count         2016.0        2016.0       2016.0        2016.0    2.016000e+03\n",
              "mean        103943.0      104022.0     103856.0      103938.0    1.015275e+08\n",
              "std           1719.0        1725.0       1719.0        1724.0    2.426439e+08\n",
              "min          99722.0       99865.0      99623.0       99623.0    0.000000e+00\n",
              "25%         102573.0      102646.0     102488.0      102579.0    0.000000e+00\n",
              "50%         104095.0      104164.0     104022.0      104086.0    6.838272e+06\n",
              "75%         104967.0      105014.0     104903.0      104970.0    1.006244e+08\n",
              "max         108897.0      109110.0     108711.0      108900.0    3.901678e+09"
            ],
            "text/html": [
              "\n",
              "  <div id=\"df-caefed65-084f-46f8-9d00-d9fed9404947\" class=\"colab-df-container\">\n",
              "    <div>\n",
              "<style scoped>\n",
              "    .dataframe tbody tr th:only-of-type {\n",
              "        vertical-align: middle;\n",
              "    }\n",
              "\n",
              "    .dataframe tbody tr th {\n",
              "        vertical-align: top;\n",
              "    }\n",
              "\n",
              "    .dataframe thead th {\n",
              "        text-align: right;\n",
              "    }\n",
              "</style>\n",
              "<table border=\"1\" class=\"dataframe\">\n",
              "  <thead>\n",
              "    <tr style=\"text-align: right;\">\n",
              "      <th></th>\n",
              "      <th>Close_BTC-USD</th>\n",
              "      <th>High_BTC-USD</th>\n",
              "      <th>Low_BTC-USD</th>\n",
              "      <th>Open_BTC-USD</th>\n",
              "      <th>Volume_BTC-USD</th>\n",
              "    </tr>\n",
              "  </thead>\n",
              "  <tbody>\n",
              "    <tr>\n",
              "      <th>count</th>\n",
              "      <td>2016.0</td>\n",
              "      <td>2016.0</td>\n",
              "      <td>2016.0</td>\n",
              "      <td>2016.0</td>\n",
              "      <td>2.016000e+03</td>\n",
              "    </tr>\n",
              "    <tr>\n",
              "      <th>mean</th>\n",
              "      <td>103943.0</td>\n",
              "      <td>104022.0</td>\n",
              "      <td>103856.0</td>\n",
              "      <td>103938.0</td>\n",
              "      <td>1.015275e+08</td>\n",
              "    </tr>\n",
              "    <tr>\n",
              "      <th>std</th>\n",
              "      <td>1719.0</td>\n",
              "      <td>1725.0</td>\n",
              "      <td>1719.0</td>\n",
              "      <td>1724.0</td>\n",
              "      <td>2.426439e+08</td>\n",
              "    </tr>\n",
              "    <tr>\n",
              "      <th>min</th>\n",
              "      <td>99722.0</td>\n",
              "      <td>99865.0</td>\n",
              "      <td>99623.0</td>\n",
              "      <td>99623.0</td>\n",
              "      <td>0.000000e+00</td>\n",
              "    </tr>\n",
              "    <tr>\n",
              "      <th>25%</th>\n",
              "      <td>102573.0</td>\n",
              "      <td>102646.0</td>\n",
              "      <td>102488.0</td>\n",
              "      <td>102579.0</td>\n",
              "      <td>0.000000e+00</td>\n",
              "    </tr>\n",
              "    <tr>\n",
              "      <th>50%</th>\n",
              "      <td>104095.0</td>\n",
              "      <td>104164.0</td>\n",
              "      <td>104022.0</td>\n",
              "      <td>104086.0</td>\n",
              "      <td>6.838272e+06</td>\n",
              "    </tr>\n",
              "    <tr>\n",
              "      <th>75%</th>\n",
              "      <td>104967.0</td>\n",
              "      <td>105014.0</td>\n",
              "      <td>104903.0</td>\n",
              "      <td>104970.0</td>\n",
              "      <td>1.006244e+08</td>\n",
              "    </tr>\n",
              "    <tr>\n",
              "      <th>max</th>\n",
              "      <td>108897.0</td>\n",
              "      <td>109110.0</td>\n",
              "      <td>108711.0</td>\n",
              "      <td>108900.0</td>\n",
              "      <td>3.901678e+09</td>\n",
              "    </tr>\n",
              "  </tbody>\n",
              "</table>\n",
              "</div>\n",
              "    <div class=\"colab-df-buttons\">\n",
              "\n",
              "  <div class=\"colab-df-container\">\n",
              "    <button class=\"colab-df-convert\" onclick=\"convertToInteractive('df-caefed65-084f-46f8-9d00-d9fed9404947')\"\n",
              "            title=\"Convert this dataframe to an interactive table.\"\n",
              "            style=\"display:none;\">\n",
              "\n",
              "  <svg xmlns=\"http://www.w3.org/2000/svg\" height=\"24px\" viewBox=\"0 -960 960 960\">\n",
              "    <path d=\"M120-120v-720h720v720H120Zm60-500h600v-160H180v160Zm220 220h160v-160H400v160Zm0 220h160v-160H400v160ZM180-400h160v-160H180v160Zm440 0h160v-160H620v160ZM180-180h160v-160H180v160Zm440 0h160v-160H620v160Z\"/>\n",
              "  </svg>\n",
              "    </button>\n",
              "\n",
              "  <style>\n",
              "    .colab-df-container {\n",
              "      display:flex;\n",
              "      gap: 12px;\n",
              "    }\n",
              "\n",
              "    .colab-df-convert {\n",
              "      background-color: #E8F0FE;\n",
              "      border: none;\n",
              "      border-radius: 50%;\n",
              "      cursor: pointer;\n",
              "      display: none;\n",
              "      fill: #1967D2;\n",
              "      height: 32px;\n",
              "      padding: 0 0 0 0;\n",
              "      width: 32px;\n",
              "    }\n",
              "\n",
              "    .colab-df-convert:hover {\n",
              "      background-color: #E2EBFA;\n",
              "      box-shadow: 0px 1px 2px rgba(60, 64, 67, 0.3), 0px 1px 3px 1px rgba(60, 64, 67, 0.15);\n",
              "      fill: #174EA6;\n",
              "    }\n",
              "\n",
              "    .colab-df-buttons div {\n",
              "      margin-bottom: 4px;\n",
              "    }\n",
              "\n",
              "    [theme=dark] .colab-df-convert {\n",
              "      background-color: #3B4455;\n",
              "      fill: #D2E3FC;\n",
              "    }\n",
              "\n",
              "    [theme=dark] .colab-df-convert:hover {\n",
              "      background-color: #434B5C;\n",
              "      box-shadow: 0px 1px 3px 1px rgba(0, 0, 0, 0.15);\n",
              "      filter: drop-shadow(0px 1px 2px rgba(0, 0, 0, 0.3));\n",
              "      fill: #FFFFFF;\n",
              "    }\n",
              "  </style>\n",
              "\n",
              "    <script>\n",
              "      const buttonEl =\n",
              "        document.querySelector('#df-caefed65-084f-46f8-9d00-d9fed9404947 button.colab-df-convert');\n",
              "      buttonEl.style.display =\n",
              "        google.colab.kernel.accessAllowed ? 'block' : 'none';\n",
              "\n",
              "      async function convertToInteractive(key) {\n",
              "        const element = document.querySelector('#df-caefed65-084f-46f8-9d00-d9fed9404947');\n",
              "        const dataTable =\n",
              "          await google.colab.kernel.invokeFunction('convertToInteractive',\n",
              "                                                    [key], {});\n",
              "        if (!dataTable) return;\n",
              "\n",
              "        const docLinkHtml = 'Like what you see? Visit the ' +\n",
              "          '<a target=\"_blank\" href=https://colab.research.google.com/notebooks/data_table.ipynb>data table notebook</a>'\n",
              "          + ' to learn more about interactive tables.';\n",
              "        element.innerHTML = '';\n",
              "        dataTable['output_type'] = 'display_data';\n",
              "        await google.colab.output.renderOutput(dataTable, element);\n",
              "        const docLink = document.createElement('div');\n",
              "        docLink.innerHTML = docLinkHtml;\n",
              "        element.appendChild(docLink);\n",
              "      }\n",
              "    </script>\n",
              "  </div>\n",
              "\n",
              "\n",
              "<div id=\"df-a1cb6c03-5230-49d6-9bd7-c7bbf3936e87\">\n",
              "  <button class=\"colab-df-quickchart\" onclick=\"quickchart('df-a1cb6c03-5230-49d6-9bd7-c7bbf3936e87')\"\n",
              "            title=\"Suggest charts\"\n",
              "            style=\"display:none;\">\n",
              "\n",
              "<svg xmlns=\"http://www.w3.org/2000/svg\" height=\"24px\"viewBox=\"0 0 24 24\"\n",
              "     width=\"24px\">\n",
              "    <g>\n",
              "        <path d=\"M19 3H5c-1.1 0-2 .9-2 2v14c0 1.1.9 2 2 2h14c1.1 0 2-.9 2-2V5c0-1.1-.9-2-2-2zM9 17H7v-7h2v7zm4 0h-2V7h2v10zm4 0h-2v-4h2v4z\"/>\n",
              "    </g>\n",
              "</svg>\n",
              "  </button>\n",
              "\n",
              "<style>\n",
              "  .colab-df-quickchart {\n",
              "      --bg-color: #E8F0FE;\n",
              "      --fill-color: #1967D2;\n",
              "      --hover-bg-color: #E2EBFA;\n",
              "      --hover-fill-color: #174EA6;\n",
              "      --disabled-fill-color: #AAA;\n",
              "      --disabled-bg-color: #DDD;\n",
              "  }\n",
              "\n",
              "  [theme=dark] .colab-df-quickchart {\n",
              "      --bg-color: #3B4455;\n",
              "      --fill-color: #D2E3FC;\n",
              "      --hover-bg-color: #434B5C;\n",
              "      --hover-fill-color: #FFFFFF;\n",
              "      --disabled-bg-color: #3B4455;\n",
              "      --disabled-fill-color: #666;\n",
              "  }\n",
              "\n",
              "  .colab-df-quickchart {\n",
              "    background-color: var(--bg-color);\n",
              "    border: none;\n",
              "    border-radius: 50%;\n",
              "    cursor: pointer;\n",
              "    display: none;\n",
              "    fill: var(--fill-color);\n",
              "    height: 32px;\n",
              "    padding: 0;\n",
              "    width: 32px;\n",
              "  }\n",
              "\n",
              "  .colab-df-quickchart:hover {\n",
              "    background-color: var(--hover-bg-color);\n",
              "    box-shadow: 0 1px 2px rgba(60, 64, 67, 0.3), 0 1px 3px 1px rgba(60, 64, 67, 0.15);\n",
              "    fill: var(--button-hover-fill-color);\n",
              "  }\n",
              "\n",
              "  .colab-df-quickchart-complete:disabled,\n",
              "  .colab-df-quickchart-complete:disabled:hover {\n",
              "    background-color: var(--disabled-bg-color);\n",
              "    fill: var(--disabled-fill-color);\n",
              "    box-shadow: none;\n",
              "  }\n",
              "\n",
              "  .colab-df-spinner {\n",
              "    border: 2px solid var(--fill-color);\n",
              "    border-color: transparent;\n",
              "    border-bottom-color: var(--fill-color);\n",
              "    animation:\n",
              "      spin 1s steps(1) infinite;\n",
              "  }\n",
              "\n",
              "  @keyframes spin {\n",
              "    0% {\n",
              "      border-color: transparent;\n",
              "      border-bottom-color: var(--fill-color);\n",
              "      border-left-color: var(--fill-color);\n",
              "    }\n",
              "    20% {\n",
              "      border-color: transparent;\n",
              "      border-left-color: var(--fill-color);\n",
              "      border-top-color: var(--fill-color);\n",
              "    }\n",
              "    30% {\n",
              "      border-color: transparent;\n",
              "      border-left-color: var(--fill-color);\n",
              "      border-top-color: var(--fill-color);\n",
              "      border-right-color: var(--fill-color);\n",
              "    }\n",
              "    40% {\n",
              "      border-color: transparent;\n",
              "      border-right-color: var(--fill-color);\n",
              "      border-top-color: var(--fill-color);\n",
              "    }\n",
              "    60% {\n",
              "      border-color: transparent;\n",
              "      border-right-color: var(--fill-color);\n",
              "    }\n",
              "    80% {\n",
              "      border-color: transparent;\n",
              "      border-right-color: var(--fill-color);\n",
              "      border-bottom-color: var(--fill-color);\n",
              "    }\n",
              "    90% {\n",
              "      border-color: transparent;\n",
              "      border-bottom-color: var(--fill-color);\n",
              "    }\n",
              "  }\n",
              "</style>\n",
              "\n",
              "  <script>\n",
              "    async function quickchart(key) {\n",
              "      const quickchartButtonEl =\n",
              "        document.querySelector('#' + key + ' button');\n",
              "      quickchartButtonEl.disabled = true;  // To prevent multiple clicks.\n",
              "      quickchartButtonEl.classList.add('colab-df-spinner');\n",
              "      try {\n",
              "        const charts = await google.colab.kernel.invokeFunction(\n",
              "            'suggestCharts', [key], {});\n",
              "      } catch (error) {\n",
              "        console.error('Error during call to suggestCharts:', error);\n",
              "      }\n",
              "      quickchartButtonEl.classList.remove('colab-df-spinner');\n",
              "      quickchartButtonEl.classList.add('colab-df-quickchart-complete');\n",
              "    }\n",
              "    (() => {\n",
              "      let quickchartButtonEl =\n",
              "        document.querySelector('#df-a1cb6c03-5230-49d6-9bd7-c7bbf3936e87 button');\n",
              "      quickchartButtonEl.style.display =\n",
              "        google.colab.kernel.accessAllowed ? 'block' : 'none';\n",
              "    })();\n",
              "  </script>\n",
              "</div>\n",
              "\n",
              "    </div>\n",
              "  </div>\n"
            ],
            "application/vnd.google.colaboratory.intrinsic+json": {
              "type": "dataframe",
              "summary": "{\n  \"name\": \"df_bitcoin\",\n  \"rows\": 8,\n  \"fields\": [\n    {\n      \"column\": \"Close_BTC-USD\",\n      \"properties\": {\n        \"dtype\": \"number\",\n        \"std\": 47361.732931615945,\n        \"min\": 1719.0,\n        \"max\": 108897.0,\n        \"num_unique_values\": 8,\n        \"samples\": [\n          103943.0,\n          104095.0,\n          2016.0\n        ],\n        \"semantic_type\": \"\",\n        \"description\": \"\"\n      }\n    },\n    {\n      \"column\": \"High_BTC-USD\",\n      \"properties\": {\n        \"dtype\": \"number\",\n        \"std\": 47409.513236872015,\n        \"min\": 1725.0,\n        \"max\": 109110.0,\n        \"num_unique_values\": 8,\n        \"samples\": [\n          104022.0,\n          104164.0,\n          2016.0\n        ],\n        \"semantic_type\": \"\",\n        \"description\": \"\"\n      }\n    },\n    {\n      \"column\": \"Low_BTC-USD\",\n      \"properties\": {\n        \"dtype\": \"number\",\n        \"std\": 47314.74680945526,\n        \"min\": 1719.0,\n        \"max\": 108711.0,\n        \"num_unique_values\": 8,\n        \"samples\": [\n          103856.0,\n          104022.0,\n          2016.0\n        ],\n        \"semantic_type\": \"\",\n        \"description\": \"\"\n      }\n    },\n    {\n      \"column\": \"Open_BTC-USD\",\n      \"properties\": {\n        \"dtype\": \"number\",\n        \"std\": 47354.119718201015,\n        \"min\": 1724.0,\n        \"max\": 108900.0,\n        \"num_unique_values\": 8,\n        \"samples\": [\n          103938.0,\n          104086.0,\n          2016.0\n        ],\n        \"semantic_type\": \"\",\n        \"description\": \"\"\n      }\n    },\n    {\n      \"column\": \"Volume_BTC-USD\",\n      \"properties\": {\n        \"dtype\": \"number\",\n        \"std\": 1359281655.1271694,\n        \"min\": 0.0,\n        \"max\": 3901677568.0,\n        \"num_unique_values\": 7,\n        \"samples\": [\n          2016.0,\n          101527505.0,\n          100624384.0\n        ],\n        \"semantic_type\": \"\",\n        \"description\": \"\"\n      }\n    }\n  ]\n}"
            }
          },
          "metadata": {},
          "execution_count": 11
        }
      ]
    },
    {
      "cell_type": "markdown",
      "source": [
        "## 3.2 Visualización de la distribución del Precio de Cierre sin tratamiento"
      ],
      "metadata": {
        "id": "6pzpuy-Rxl3X"
      }
    },
    {
      "cell_type": "code",
      "source": [
        "#Muestra el boxplot de la base sin tratamiento\n",
        "df_bitcoin.boxplot(['Close_BTC-USD'])"
      ],
      "metadata": {
        "id": "9InQ_xtxwqf6",
        "colab": {
          "base_uri": "https://localhost:8080/",
          "height": 463
        },
        "outputId": "4fb6fbe2-f854-4fa5-ceb8-85eb4b5f3a02"
      },
      "execution_count": 12,
      "outputs": [
        {
          "output_type": "execute_result",
          "data": {
            "text/plain": [
              "<Axes: >"
            ]
          },
          "metadata": {},
          "execution_count": 12
        },
        {
          "output_type": "display_data",
          "data": {
            "text/plain": [
              "<Figure size 500x500 with 1 Axes>"
            ],
            "image/png": "[encoded data removed]"
          },
          "metadata": {}
        }
      ]
    },
    {
      "cell_type": "markdown",
      "source": [
        "## 3.3 Función para la limpieza de los datos de Bitcoin"
      ],
      "metadata": {
        "id": "NMP3raHwxn4f"
      }
    },
    {
      "cell_type": "code",
      "source": [
        "# def limpieza_datos():\n",
        "#     global df_bitcoin, df_bitcoin_limpio, media_bitcoin, precio_actual, tendencia\n",
        "\n",
        "#     # Tu codigo aqui"
      ],
      "metadata": {
        "id": "-YOXr4rICKf2"
      },
      "execution_count": 13,
      "outputs": []
    },
    {
      "cell_type": "markdown",
      "source": [
        "## 3.4 Visualización de la distribución del Precio de Cierre después de la limpieza"
      ],
      "metadata": {
        "id": "fHWGIWyRxmwT"
      }
    },
    {
      "cell_type": "code",
      "source": [
        "limpieza_datos()\n",
        "#Muestra el Boxplot de la base limpia\n",
        "\n",
        "df_bitcoin_limpio.boxplot(['Close_BTC-USD'])"
      ],
      "metadata": {
        "id": "ZY_JE05fxF2S",
        "colab": {
          "base_uri": "https://localhost:8080/",
          "height": 647
        },
        "outputId": "506f61a0-10be-461d-c132-e9fb32474e79"
      },
      "execution_count": 14,
      "outputs": [
        {
          "output_type": "stream",
          "name": "stderr",
          "text": [
            "<ipython-input-10-cfcc2edec99f>:18: FutureWarning: A value is trying to be set on a copy of a DataFrame or Series through chained assignment using an inplace method.\n",
            "The behavior will change in pandas 3.0. This inplace method will never work because the intermediate object on which we are setting values always behaves as a copy.\n",
            "\n",
            "For example, when doing 'df[col].method(value, inplace=True)', try using 'df.method({col: value}, inplace=True)' or df[col] = df[col].method(value) instead, to perform the operation inplace on the original object.\n",
            "\n",
            "\n",
            "  df_bitcoin_limpio['Close_BTC-USD'].fillna(method='ffill', inplace=True)\n",
            "<ipython-input-10-cfcc2edec99f>:18: FutureWarning: Series.fillna with 'method' is deprecated and will raise in a future version. Use obj.ffill() or obj.bfill() instead.\n",
            "  df_bitcoin_limpio['Close_BTC-USD'].fillna(method='ffill', inplace=True)\n"
          ]
        },
        {
          "output_type": "execute_result",
          "data": {
            "text/plain": [
              "<Axes: >"
            ]
          },
          "metadata": {},
          "execution_count": 14
        },
        {
          "output_type": "display_data",
          "data": {
            "text/plain": [
              "<Figure size 500x500 with 1 Axes>"
            ],
            "image/png": "[encoded data removed]"
          },
          "metadata": {}
        }
      ]
    },
    {
      "cell_type": "markdown",
      "source": [
        "## 3.5 Comparación de la distribución del Precio de Cierre antes y después de la limpieza"
      ],
      "metadata": {
        "id": "N0TIua3bxohv"
      }
    },
    {
      "cell_type": "code",
      "source": [
        "#@title Gráfico de distribución del Precio de Cierre antes y después de la limpieza { display-mode: \"form\" }\n",
        "# Gráfico de antes y después de la limpieza de la distribución del Precio de Cierre\n",
        "plt.figure(figsize=(10, 6))\n",
        "plt.hist(df_bitcoin['Close_BTC-USD'], bins=30, alpha=0.7, label='Antes de la limpieza')\n",
        "plt.hist(df_bitcoin_limpio['Close_BTC-USD'], bins=30, alpha=0.7, label='Después de la limpieza')\n",
        "plt.legend()\n",
        "plt.title('Distribución del Precio de Cierre')\n",
        "plt.xlabel('Precio de Cierre (Close)')\n",
        "plt.ylabel('Frecuencia')\n",
        "plt.show()"
      ],
      "metadata": {
        "id": "A_KSNUa-q0G_",
        "colab": {
          "base_uri": "https://localhost:8080/",
          "height": 564
        },
        "outputId": "463f337a-5e8f-464c-ae72-57e52ade7aa7"
      },
      "execution_count": 15,
      "outputs": [
        {
          "output_type": "display_data",
          "data": {
            "text/plain": [
              "<Figure size 1000x600 with 1 Axes>"
            ],
            "image/png": "[encoded data removed]"
          },
          "metadata": {}
        }
      ]
    },
    {
      "cell_type": "markdown",
      "source": [
        "# 4. Tomar decisiones"
      ],
      "metadata": {
        "id": "9QdbSCnQt2IQ"
      }
    },
    {
      "cell_type": "markdown",
      "source": [
        "## 4.1 Encontrar medias moviles"
      ],
      "metadata": {
        "id": "zt9BjihWt8HQ"
      }
    },
    {
      "cell_type": "code",
      "source": [
        "df_bitcoin_limpio.info()"
      ],
      "metadata": {
        "colab": {
          "base_uri": "https://localhost:8080/"
        },
        "id": "xUVdw4RL3o2A",
        "outputId": "a0e24826-65b8-48a3-9c8b-3ce571639ab4"
      },
      "execution_count": 16,
      "outputs": [
        {
          "output_type": "stream",
          "name": "stdout",
          "text": [
            "<class 'pandas.core.frame.DataFrame'>\n",
            "Index: 1050 entries, 26 to 2015\n",
            "Data columns (total 7 columns):\n",
            " #   Column          Non-Null Count  Dtype              \n",
            "---  ------          --------------  -----              \n",
            " 0   index           1050 non-null   int64              \n",
            " 1   Datetime        1050 non-null   datetime64[ns, UTC]\n",
            " 2   Close_BTC-USD   1050 non-null   float64            \n",
            " 3   High_BTC-USD    1050 non-null   float64            \n",
            " 4   Low_BTC-USD     1050 non-null   float64            \n",
            " 5   Open_BTC-USD    1050 non-null   float64            \n",
            " 6   Volume_BTC-USD  1050 non-null   int64              \n",
            "dtypes: datetime64[ns, UTC](1), float64(4), int64(2)\n",
            "memory usage: 65.6 KB\n"
          ]
        }
      ]
    },
    {
      "cell_type": "code",
      "source": [
        "def calcular_sma():\n",
        "    global df_bitcoin_limpio\n",
        "\n",
        "    # Calcular la SMA de corto plazo (10 periodos)\n",
        "    df_bitcoin_limpio['SMA_corto'] = df_bitcoin_limpio['Close_BTC-USD'].rolling(window=10).mean()\n",
        "\n",
        "    # Calcular la SMA de largo plazo (50 periodos)\n",
        "    df_bitcoin_limpio['SMA_largo'] = df_bitcoin_limpio['Close_BTC-USD'].rolling(window=50).mean()\n",
        "\n",
        "calcular_sma()\n"
      ],
      "metadata": {
        "id": "N5OrSr8gxSw9"
      },
      "execution_count": 17,
      "outputs": []
    },
    {
      "cell_type": "code",
      "source": [
        "print(df_bitcoin_limpio.head())"
      ],
      "metadata": {
        "colab": {
          "base_uri": "https://localhost:8080/"
        },
        "id": "BcSveBrzCXc8",
        "outputId": "420d153c-e93d-4b2c-c7b9-12ac94a8af74"
      },
      "execution_count": 18,
      "outputs": [
        {
          "output_type": "stream",
          "name": "stdout",
          "text": [
            "    index                  Datetime  Close_BTC-USD   High_BTC-USD    Low_BTC-USD   Open_BTC-USD  Volume_BTC-USD  SMA_corto  SMA_largo\n",
            "26     26 2025-01-17 01:35:00+00:00  101022.734375  101022.734375  100514.117188  100514.117188       377057280        NaN        NaN\n",
            "27     27 2025-01-17 01:40:00+00:00  101445.421875  101474.679688  101106.906250  101106.906250       596115456        NaN        NaN\n",
            "28     28 2025-01-17 01:45:00+00:00  101329.656250  101726.906250  101329.656250  101586.375000       781766656        NaN        NaN\n",
            "29     29 2025-01-17 01:50:00+00:00  101400.445312  101467.343750  101254.656250  101254.656250       614141952        NaN        NaN\n",
            "30     30 2025-01-17 01:55:00+00:00  101656.500000  101660.937500  101467.523438  101467.523438       310140928        NaN        NaN\n"
          ]
        }
      ]
    },
    {
      "cell_type": "code",
      "source": [
        "df_bitcoin_limpio.info()"
      ],
      "metadata": {
        "colab": {
          "base_uri": "https://localhost:8080/"
        },
        "id": "8AEinJeRn54n",
        "outputId": "bcabab2f-72e1-4e2f-8990-ecdccac724dc"
      },
      "execution_count": 19,
      "outputs": [
        {
          "output_type": "stream",
          "name": "stdout",
          "text": [
            "<class 'pandas.core.frame.DataFrame'>\n",
            "Index: 1050 entries, 26 to 2015\n",
            "Data columns (total 9 columns):\n",
            " #   Column          Non-Null Count  Dtype              \n",
            "---  ------          --------------  -----              \n",
            " 0   index           1050 non-null   int64              \n",
            " 1   Datetime        1050 non-null   datetime64[ns, UTC]\n",
            " 2   Close_BTC-USD   1050 non-null   float64            \n",
            " 3   High_BTC-USD    1050 non-null   float64            \n",
            " 4   Low_BTC-USD     1050 non-null   float64            \n",
            " 5   Open_BTC-USD    1050 non-null   float64            \n",
            " 6   Volume_BTC-USD  1050 non-null   int64              \n",
            " 7   SMA_corto       1041 non-null   float64            \n",
            " 8   SMA_largo       1001 non-null   float64            \n",
            "dtypes: datetime64[ns, UTC](1), float64(6), int64(2)\n",
            "memory usage: 82.0 KB\n"
          ]
        }
      ]
    },
    {
      "cell_type": "markdown",
      "source": [
        "## 4.2 Evaluar datos y tomar decision"
      ],
      "metadata": {
        "id": "zBNXMVHBuFn4"
      }
    },
    {
      "cell_type": "code",
      "source": [
        "# # Función para tomar decisiones basadas en SMA y tendencia del mercado\n",
        "# def tomar_decisiones(df_bitcoin_limpio):\n",
        "#     global df_bitcoin, precio_actual, tendencia, media_bitcoin, algoritmo_decision, color\n",
        "\n",
        "#     # Obtener los valores más recientes de SMA corta y SMA larga\n",
        "#     SMA_corto = df_bitcoin_limpio['SMA_corto'].iloc[-1]\n",
        "#     SMA_largo = df_bitcoin_limpio['SMA_largo'].iloc[-1]\n",
        "\n",
        "#     # Decidir según las condiciones definidas\n",
        "#     if SMA_corto > SMA_largo and tendencia == \"Alta\":\n",
        "#         algoritmo_decision = \"Comprar\"\n",
        "#         color = \"#00FF00\"  # Color verde para la compra\n",
        "#     elif SMA_corto < SMA_largo and tendencia == \"Baja\":\n",
        "#         algoritmo_decision = \"Vender\"\n",
        "#         color = \"#FF0000\"  # Color rojo para la venta\n",
        "#     else:\n",
        "#         algoritmo_decision = \"Mantener\"\n",
        "#         color = \"#000000\"  # Color negro para mantener\n",
        "\n",
        "#     # Imprimir los resultados\n",
        "#     print(f\"Precio actual: {precio_actual}\")\n",
        "#     print(f\"SMA Corta: {SMA_corto}\")\n",
        "#     print(f\"SMA Larga: {SMA_largo}\")\n",
        "#     print(f\"Tendencia del mercado: {tendencia}\")\n",
        "#     print(f\"Decisión del algoritmo: {algoritmo_decision}\")\n",
        "#     print(f\"Color de la señal: {color}\")\n",
        "\n",
        "# tomar_decisiones(df_bitcoin_limpio)\n",
        "\n",
        "\n",
        "\n",
        "# Función para tomar decisiones basadas en SMA y tendencia del mercado\n",
        "def tomar_decisiones(df_bitcoin_limpio):\n",
        "    global df_bitcoin, precio_actual, tendencia, media_bitcoin, algoritmo_decision, color\n",
        "\n",
        "    # Obtener los valores más recientes de SMA_corto y SMA_largo\n",
        "    SMA_corto = df_bitcoin_limpio['SMA_corto'].iloc[-1]\n",
        "    SMA_largo = df_bitcoin_limpio['SMA_largo'].iloc[-1]\n",
        "\n",
        "    # Decidir según las condiciones definidas\n",
        "    if SMA_corto > SMA_largo and tendencia == \"Alta\":\n",
        "        algoritmo_decision = \"Comprar\"\n",
        "        color = \"#00FF00\"  # Color verde para la compra\n",
        "    elif SMA_corto < SMA_largo and tendencia == \"Baja\":\n",
        "        algoritmo_decision = \"Vender\"\n",
        "        color = \"#FF0000\"  # Color rojo para la venta\n",
        "    else:\n",
        "        algoritmo_decision = \"Mantener\"\n",
        "        color = \"#000000\"  # Color negro para mantener\n",
        "\n",
        "    # Imprimir los resultados\n",
        "    print(f\"Precio actual: {precio_actual}\")\n",
        "    print(f\"SMA Corto: {SMA_corto}\")\n",
        "    print(f\"SMA Largo: {SMA_largo}\")\n",
        "    print(f\"Tendencia del mercado: {tendencia}\")\n",
        "    print(f\"Decisión del algoritmo: {algoritmo_decision}\")\n",
        "    print(f\"Color de la señal: {color}\")\n",
        "tomar_decisiones(df_bitcoin_limpio)"
      ],
      "metadata": {
        "id": "UpOFR8skordZ",
        "colab": {
          "base_uri": "https://localhost:8080/"
        },
        "outputId": "d5c7faa7-a951-4971-fbdb-05cd7cf0c467"
      },
      "execution_count": 20,
      "outputs": [
        {
          "output_type": "stream",
          "name": "stdout",
          "text": [
            "Precio actual: 104427.2\n",
            "SMA Corto: 104170.3390625\n",
            "SMA Largo: 104002.178125\n",
            "Tendencia del mercado: alta\n",
            "Decisión del algoritmo: Mantener\n",
            "Color de la señal: #000000\n"
          ]
        }
      ]
    },
    {
      "cell_type": "markdown",
      "source": [
        "# ATENCION\n",
        "# Recuerden que la tendencia de una hora puede cambiar rápidamente.\n",
        "# Siempre revisen las señales de color en el gráfico antes de tomar decisiones."
      ],
      "metadata": {
        "id": "ghybG4OBkZZ1"
      }
    },
    {
      "cell_type": "markdown",
      "source": [
        "#  5. Visualizaciones"
      ],
      "metadata": {
        "id": "qdGxKFhHkcuB"
      }
    },
    {
      "cell_type": "markdown",
      "source": [
        "## 5.1 Función para graficar tendencias"
      ],
      "metadata": {
        "id": "_S6GsDPnkgYR"
      }
    },
    {
      "cell_type": "code",
      "source": [
        "df_bitcoin_limpio.info()"
      ],
      "metadata": {
        "colab": {
          "base_uri": "https://localhost:8080/"
        },
        "id": "09gWSbDNBzkc",
        "outputId": "799cd9c0-14ee-441e-bf49-3373534483e7"
      },
      "execution_count": 21,
      "outputs": [
        {
          "output_type": "stream",
          "name": "stdout",
          "text": [
            "<class 'pandas.core.frame.DataFrame'>\n",
            "Index: 1050 entries, 26 to 2015\n",
            "Data columns (total 9 columns):\n",
            " #   Column          Non-Null Count  Dtype              \n",
            "---  ------          --------------  -----              \n",
            " 0   index           1050 non-null   int64              \n",
            " 1   Datetime        1050 non-null   datetime64[ns, UTC]\n",
            " 2   Close_BTC-USD   1050 non-null   float64            \n",
            " 3   High_BTC-USD    1050 non-null   float64            \n",
            " 4   Low_BTC-USD     1050 non-null   float64            \n",
            " 5   Open_BTC-USD    1050 non-null   float64            \n",
            " 6   Volume_BTC-USD  1050 non-null   int64              \n",
            " 7   SMA_corto       1041 non-null   float64            \n",
            " 8   SMA_largo       1001 non-null   float64            \n",
            "dtypes: datetime64[ns, UTC](1), float64(6), int64(2)\n",
            "memory usage: 82.0 KB\n"
          ]
        }
      ]
    },
    {
      "cell_type": "code",
      "source": [
        "import matplotlib.dates as mdates\n",
        "\n",
        "def new_signal_graph(df_bitcoin_limpio, algoritmo_decision, color):\n",
        "    \"\"\"\n",
        "    Genera un gráfico con la evolución del precio de la moneda, medias móviles,\n",
        "    y las señales de compra o venta más recientes.\n",
        "\n",
        "    Args:\n",
        "        df_bitcoin_limpio (DataFrame): DataFrame con las columnas 'Close_BTC-USD', 'SMA_corto', 'SMA_largo'.\n",
        "        algoritmo_decision (str): Decisión del bot (\"Comprar\", \"Vender\" o \"Mantener\").\n",
        "        color (str): Color de la señal de decisión actual.\n",
        "    \"\"\"\n",
        "\n",
        "    # Configurar el tamaño del gráfico\n",
        "    plt.figure(figsize=(14, 8))\n",
        "\n",
        "    # Graficar el precio de cierre\n",
        "    plt.plot(df_bitcoin_limpio.index, df_bitcoin_limpio['Close_BTC-USD'], label='Precio BTC/USD', color='blue', alpha=0.8)\n",
        "\n",
        "    # Graficar las medias móviles\n",
        "    plt.plot(df_bitcoin_limpio.index, df_bitcoin_limpio['SMA_corto'], label='SMA Corto (10)', color='orange', linestyle='--', alpha=0.9)\n",
        "    plt.plot(df_bitcoin_limpio.index, df_bitcoin_limpio['SMA_largo'], label='SMA Largo (50)', color='green', linestyle='--', alpha=0.9)\n",
        "\n",
        "    # Agregar la señal de compra o venta más reciente\n",
        "    ultima_senal = df_bitcoin_limpio.iloc[-1]\n",
        "    plt.scatter(ultima_senal.name, ultima_senal['Close_BTC-USD'], color=color, s=100, label=f'Señal actual: {algoritmo_decision}', edgecolors='k')\n",
        "\n",
        "    # Formato del eje X (fechas)\n",
        "    plt.gca().xaxis.set_major_formatter(mdates.DateFormatter('%Y-%m-%d'))\n",
        "    plt.gca().xaxis.set_major_locator(mdates.MonthLocator())\n",
        "    plt.gcf().autofmt_xdate()\n",
        "\n",
        "    # Configurar título y etiquetas\n",
        "    plt.title('Evolución del Precio y Señales del Bot', fontsize=16)\n",
        "    plt.xlabel('Fecha', fontsize=12)\n",
        "    plt.ylabel('Precio BTC/USD', fontsize=12)\n",
        "\n",
        "    # Agregar leyenda\n",
        "    plt.legend(fontsize=12)\n",
        "\n",
        "    # Mostrar el gráfico\n",
        "    plt.grid(alpha=0.3)\n",
        "    plt.show()\n",
        "\n",
        "new_signal_graph(df_bitcoin_limpio, algoritmo_decision, color)"
      ],
      "metadata": {
        "id": "DrwrOcAEqs9u",
        "colab": {
          "base_uri": "https://localhost:8080/",
          "height": 611
        },
        "outputId": "d99ee591-813b-4fdd-ee2c-ef651b784744"
      },
      "execution_count": 22,
      "outputs": [
        {
          "output_type": "display_data",
          "data": {
            "text/plain": [
              "<Figure size 1400x800 with 1 Axes>"
            ],
            "image/png": "[encoded data removed]"
          },
          "metadata": {}
        }
      ]
    },
    {
      "cell_type": "markdown",
      "source": [
        "# 6. Ciclo"
      ],
      "metadata": {
        "id": "Dj1UBWnbkqzf"
      }
    },
    {
      "cell_type": "code",
      "source": [
        "# Aplanar las columnas del DataFrame original\n",
        "df_bitcoin_limpio = aplanar_columnas_df(df_bitcoin_limpio)\n",
        "\n",
        "# Verificar las columnas\n",
        "print(df_bitcoin_limpio.columns)\n",
        "\n",
        "# Iniciar el bucle\n",
        "while True:\n",
        "    print(\"Iniciando ciclo de análisis...\")\n",
        "\n",
        "    # Paso 1: Descargar los datos y extraer el precio actual\n",
        "    importar_base_bitcoin()\n",
        "    extraer_tendencias()\n",
        "\n",
        "    # Paso 2: Limpiar los datos y calcular las medias móviles\n",
        "    limpieza_datos()\n",
        "    calcular_sma(df_bitcoin_limpio)\n",
        "\n",
        "    # Paso 3: Tomar la decisión de compra/venta\n",
        "    tomar_decisiones(df_bitcoin_limpio)\n",
        "\n",
        "    # Paso 4: Graficar las tendencias y señales\n",
        "    new_signal_graph(df_bitcoin_limpio, algoritmo_decision, color)\n",
        "\n",
        "    # Esperar 5 minutos antes de la siguiente decisión\n",
        "    print(\"Esperando 5 minutos antes de la siguiente decisión...\")\n",
        "    time.sleep(300)\n"
      ],
      "metadata": {
        "id": "LhtTkIy3b6XI",
        "colab": {
          "base_uri": "https://localhost:8080/",
          "height": 219
        },
        "outputId": "4e638d1f-2bad-4f62-f313-0accdffd8c04"
      },
      "execution_count": 23,
      "outputs": [
        {
          "output_type": "error",
          "ename": "NameError",
          "evalue": "name 'aplanar_columnas_df' is not defined",
          "traceback": [
            "\u001b[0;31m---------------------------------------------------------------------------\u001b[0m",
            "\u001b[0;31mNameError\u001b[0m                                 Traceback (most recent call last)",
            "\u001b[0;32m<ipython-input-23-044afb823f3d>\u001b[0m in \u001b[0;36m<cell line: 0>\u001b[0;34m()\u001b[0m\n\u001b[1;32m      1\u001b[0m \u001b[0;31m# Aplanar las columnas del DataFrame original\u001b[0m\u001b[0;34m\u001b[0m\u001b[0;34m\u001b[0m\u001b[0m\n\u001b[0;32m----> 2\u001b[0;31m \u001b[0mdf_bitcoin_limpio\u001b[0m \u001b[0;34m=\u001b[0m \u001b[0maplanar_columnas_df\u001b[0m\u001b[0;34m(\u001b[0m\u001b[0mdf_bitcoin_limpio\u001b[0m\u001b[0;34m)\u001b[0m\u001b[0;34m\u001b[0m\u001b[0;34m\u001b[0m\u001b[0m\n\u001b[0m\u001b[1;32m      3\u001b[0m \u001b[0;34m\u001b[0m\u001b[0m\n\u001b[1;32m      4\u001b[0m \u001b[0;31m# Verificar las columnas\u001b[0m\u001b[0;34m\u001b[0m\u001b[0;34m\u001b[0m\u001b[0m\n\u001b[1;32m      5\u001b[0m \u001b[0mprint\u001b[0m\u001b[0;34m(\u001b[0m\u001b[0mdf_bitcoin_limpio\u001b[0m\u001b[0;34m.\u001b[0m\u001b[0mcolumns\u001b[0m\u001b[0;34m)\u001b[0m\u001b[0;34m\u001b[0m\u001b[0;34m\u001b[0m\u001b[0m\n",
            "\u001b[0;31mNameError\u001b[0m: name 'aplanar_columnas_df' is not defined"
          ]
        }
      ]
    },
    {
      "cell_type": "code",
      "source": [
        "df_bitcoin_limpio.info()"
      ],
      "metadata": {
        "id": "zeCoWBYwLeVn",
        "colab": {
          "base_uri": "https://localhost:8080/"
        },
        "outputId": "4a786c04-dda7-4265-bcfd-ffbbd68f3447"
      },
      "execution_count": 24,
      "outputs": [
        {
          "output_type": "stream",
          "name": "stdout",
          "text": [
            "<class 'pandas.core.frame.DataFrame'>\n",
            "Index: 1050 entries, 26 to 2015\n",
            "Data columns (total 9 columns):\n",
            " #   Column          Non-Null Count  Dtype              \n",
            "---  ------          --------------  -----              \n",
            " 0   index           1050 non-null   int64              \n",
            " 1   Datetime        1050 non-null   datetime64[ns, UTC]\n",
            " 2   Close_BTC-USD   1050 non-null   float64            \n",
            " 3   High_BTC-USD    1050 non-null   float64            \n",
            " 4   Low_BTC-USD     1050 non-null   float64            \n",
            " 5   Open_BTC-USD    1050 non-null   float64            \n",
            " 6   Volume_BTC-USD  1050 non-null   int64              \n",
            " 7   SMA_corto       1041 non-null   float64            \n",
            " 8   SMA_largo       1001 non-null   float64            \n",
            "dtypes: datetime64[ns, UTC](1), float64(6), int64(2)\n",
            "memory usage: 82.0 KB\n"
          ]
        }
      ]
    },
    {
      "cell_type": "code",
      "source": [
        "df_bitcoin_limpio.describe()"
      ],
      "metadata": {
        "id": "7mVIFt6OLkYN"
      },
      "execution_count": null,
      "outputs": []
    },
    {
      "cell_type": "code",
      "source": [],
      "metadata": {
        "id": "dMt8HwpqLujz"
      },
      "execution_count": null,
      "outputs": []
    }
  ]
}